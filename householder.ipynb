{
 "cells": [
  {
   "cell_type": "code",
   "execution_count": 1,
   "metadata": {},
   "outputs": [],
   "source": [
    "import numpy as np"
   ]
  },
  {
   "cell_type": "code",
   "execution_count": 2,
   "metadata": {},
   "outputs": [],
   "source": [
    "def householder(A):\n",
    "\n",
    "    n = A.shape[0]\n",
    "    v = np.zeros(n, dtype=np.double)\n",
    "    u = np.zeros(n, dtype=np.double)\n",
    "    z = np.zeros(n, dtype=np.double)\n",
    "\n",
    "    for k in range(0, n - 2):\n",
    "\n",
    "        if np.isclose(A[k + 1, k], 0.0):\n",
    "            α = -np.sqrt(np.sum(A[(k + 1) :, k] ** 2))\n",
    "        else:\n",
    "            α = -np.sign(A[k + 1, k]) * np.sqrt(np.sum(A[(k + 1) :, k] ** 2))\n",
    "\n",
    "        two_r_squared = α ** 2 - α * A[k + 1, k]\n",
    "        v[k] = 0.0\n",
    "        v[k + 1] = A[k + 1, k] - α\n",
    "        v[(k + 2) :] = A[(k + 2) :, k]\n",
    "        u[k:] = 1.0 / two_r_squared * np.dot(A[k:, (k + 1) :], v[(k + 1) :])\n",
    "        z[k:] = u[k:] - np.dot(u, v) / (2.0 * two_r_squared) * v[k:]\n",
    "\n",
    "        for l in range(k + 1, n - 1):\n",
    "\n",
    "            A[(l + 1) :, l] = (\n",
    "                A[(l + 1) :, l] - v[l] * z[(l + 1) :] - v[(l + 1) :] * z[l]\n",
    "            )\n",
    "            A[l, (l + 1) :] = A[(l + 1) :, l]\n",
    "            A[l, l] = A[l, l] - 2 * v[l] * z[l]\n",
    "\n",
    "        A[-1, -1] = A[-1, -1] - 2 * v[-1] * z[-1]\n",
    "        A[k, (k + 2) :] = 0.0\n",
    "        A[(k + 2) :, k] = 0.0\n",
    "\n",
    "        A[k + 1, k] = A[k + 1, k] - v[k + 1] * z[k]\n",
    "        A[k, k + 1] = A[k + 1, k]"
   ]
  },
  {
   "cell_type": "code",
   "execution_count": 9,
   "metadata": {},
   "outputs": [
    {
     "name": "stdout",
     "output_type": "stream",
     "text": [
      "[-0.21825584  0.04006711  0.81952922  1.68165951]\n",
      "[[ 0.7868     -0.53944124  0.          0.        ]\n",
      " [-0.53944124  0.6089661  -0.77042552  0.        ]\n",
      " [ 0.         -0.77042552  0.88734476 -0.02094449]\n",
      " [ 0.          0.         -0.02094449  0.03988914]]\n"
     ]
    }
   ],
   "source": [
    "# test the implementation\n",
    "\n",
    "# generate symmetric matrix\n",
    "A = np.array([[0.7868,   0.0193, 0.5206,   0.1400],\n",
    "   [0.0193,   0.4049,   0.3447,   0.5439],\n",
    "   [0.5206,   0.3447,   0.2742,   0.5219],\n",
    "   [0.1400,   0.5439,   0.5219,   0.8571]])\n",
    "\n",
    "eigen_values = np.linalg.eigvals(A)\n",
    "print(np.round(np.sort(eigen_values), 10))\n",
    "\n",
    "# apply householder reduction\n",
    "householder(A)\n",
    "\n",
    "# check if the result is tridiagonal\n",
    "print(np.round(A, 10))"
   ]
  },
  {
   "cell_type": "code",
   "execution_count": 10,
   "metadata": {},
   "outputs": [
    {
     "name": "stdout",
     "output_type": "stream",
     "text": [
      "[-0.21825584  0.04006711  0.81952922  1.68165951]\n"
     ]
    }
   ],
   "source": [
    "# calculate eigen values\n",
    "eigen_values = np.linalg.eigvalsh(A)\n",
    "print(np.round(np.sort(eigen_values), 10))\n"
   ]
  },
  {
   "cell_type": "code",
   "execution_count": null,
   "metadata": {},
   "outputs": [],
   "source": []
  }
 ],
 "metadata": {
  "kernelspec": {
   "display_name": "msse-python",
   "language": "python",
   "name": "python3"
  },
  "language_info": {
   "codemirror_mode": {
    "name": "ipython",
    "version": 3
   },
   "file_extension": ".py",
   "mimetype": "text/x-python",
   "name": "python",
   "nbconvert_exporter": "python",
   "pygments_lexer": "ipython3",
   "version": "3.11.4"
  }
 },
 "nbformat": 4,
 "nbformat_minor": 2
}
